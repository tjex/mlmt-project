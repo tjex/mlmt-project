{
 "cells": [
  {
   "cell_type": "code",
   "execution_count": 26,
   "id": "197b9a87",
   "metadata": {},
   "outputs": [
    {
     "name": "stdout",
     "output_type": "stream",
     "text": [
      "        seq          tag           timestamp          time     x_pos  \\\n",
      "0       A01   ankle_left  633790226051280329  14:03:25:127  4.062931   \n",
      "1       A01        chest  633790226051820913  14:03:25:183  4.291954   \n",
      "2       A01         belt  633790226052091205  14:03:25:210  4.359101   \n",
      "3       A01   ankle_left  633790226052361498  14:03:25:237  4.087835   \n",
      "4       A01  ankle_right  633790226052631792  14:03:25:263  4.324462   \n",
      "...     ...          ...                 ...           ...       ...   \n",
      "164855  E05  ankle_right  633790146419554374  11:50:41:957  3.209474   \n",
      "164856  E05   ankle_left  633790146419824669  11:50:41:983  3.386878   \n",
      "164857  E05        chest  633790146420094965  11:50:42:010  3.188895   \n",
      "164858  E05  ankle_right  633790146420635550  11:50:42:063  3.150169   \n",
      "164859  E05   ankle_left  633790146420905847  11:50:42:090  3.209994   \n",
      "\n",
      "           y_pos     z_pos activity  \n",
      "0       1.892434  0.507425  walking  \n",
      "1       1.781140  1.344495  walking  \n",
      "2       1.826456  0.968821  walking  \n",
      "3       1.879999  0.466983  walking  \n",
      "4       2.072460  0.488065  walking  \n",
      "...          ...       ...      ...  \n",
      "164855  2.044571  0.062902  walking  \n",
      "164856  2.004729  0.395161  walking  \n",
      "164857  1.915717  1.353087  walking  \n",
      "164858  1.931164  0.055037  walking  \n",
      "164859  1.939577  0.364777  walking  \n",
      "\n",
      "[164860 rows x 8 columns]\n"
     ]
    }
   ],
   "source": [
    "import pandas as pd\n",
    "df = pd.read_csv('data_edited_tags_named.txt',sep=',')\n",
    "# df = df.drop('timestamp', axis=1)\n",
    "\n",
    "print(df)\n",
    "\n"
   ]
  },
  {
   "cell_type": "code",
   "execution_count": 14,
   "id": "4a72adc5",
   "metadata": {},
   "outputs": [
    {
     "name": "stdout",
     "output_type": "stream",
     "text": [
      "['A01', 'A02', 'A03', 'A04', 'A05', 'B01', 'B02', 'B03', 'B04', 'B05', 'C01', 'C02', 'C03', 'C04', 'C05', 'D01', 'D02', 'D03', 'D04', 'D05', 'E01', 'E02', 'E03', 'E04', 'E05']\n"
     ]
    }
   ],
   "source": [
    "# array of unique sequence ids\n",
    "unique_seqs = []\n",
    "\n",
    "for item in df['seq'].unique():\n",
    "    unique_seqs.append(item)\n",
    "\n"
   ]
  },
  {
   "cell_type": "code",
   "execution_count": null,
   "id": "7c8f832d",
   "metadata": {},
   "outputs": [],
   "source": [
    "df_a01 = df.loc[df['seq_name'] == 'A01']\n"
   ]
  }
 ],
 "metadata": {
  "kernelspec": {
   "display_name": "Python 3 (ipykernel)",
   "language": "python",
   "name": "python3"
  },
  "language_info": {
   "codemirror_mode": {
    "name": "ipython",
    "version": 3
   },
   "file_extension": ".py",
   "mimetype": "text/x-python",
   "name": "python",
   "nbconvert_exporter": "python",
   "pygments_lexer": "ipython3",
   "version": "3.11.0"
  }
 },
 "nbformat": 4,
 "nbformat_minor": 5
}
