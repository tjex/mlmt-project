{
 "cells": [
  {
   "cell_type": "code",
   "execution_count": 28,
   "id": "197b9a87",
   "metadata": {},
   "outputs": [
    {
     "name": "stdout",
     "output_type": "stream",
     "text": [
      "        seq          tag          time     x_pos     y_pos     z_pos activity\n",
      "0       A01   ankle_left  14:03:25:127  4.062931  1.892434  0.507425  walking\n",
      "1       A01        chest  14:03:25:183  4.291954  1.781140  1.344495  walking\n",
      "2       A01         belt  14:03:25:210  4.359101  1.826456  0.968821  walking\n",
      "3       A01   ankle_left  14:03:25:237  4.087835  1.879999  0.466983  walking\n",
      "4       A01  ankle_right  14:03:25:263  4.324462  2.072460  0.488065  walking\n",
      "...     ...          ...           ...       ...       ...       ...      ...\n",
      "164855  E05  ankle_right  11:50:41:957  3.209474  2.044571  0.062902  walking\n",
      "164856  E05   ankle_left  11:50:41:983  3.386878  2.004729  0.395161  walking\n",
      "164857  E05        chest  11:50:42:010  3.188895  1.915717  1.353087  walking\n",
      "164858  E05  ankle_right  11:50:42:063  3.150169  1.931164  0.055037  walking\n",
      "164859  E05   ankle_left  11:50:42:090  3.209994  1.939577  0.364777  walking\n",
      "\n",
      "[164860 rows x 7 columns]\n"
     ]
    }
   ],
   "source": [
    "import pandas as pd\n",
    "df = pd.read_csv('data_edited.txt',sep=',')\n",
    "df = df.drop('timestamp', axis=1)\n",
    "\n",
    "print(df)\n",
    "\n"
   ]
  },
  {
   "cell_type": "code",
   "execution_count": 65,
   "id": "6f4bc401",
   "metadata": {},
   "outputs": [],
   "source": [
    "# array of unique sequence ids\n",
    "seq_ids = []\n",
    "for item in df['seq'].unique():\n",
    "    seq_ids.append(item)\n",
    "\n",
    "# array of unique activities\n",
    "unique_activities = []\n",
    "for item in df['activity'].unique():\n",
    "    unique_activities.append(df.loc[df['activity'] == item])\n",
    "\n",
    "# array of all 25 sequences\n",
    "# eg: sequences[0] = the A01 sequence for all activities\n",
    "sequences = []\n",
    "for item in seq_ids:\n",
    "    sequences.append(df.loc[df['seq'] == item])\n"
   ]
  },
  {
   "cell_type": "code",
   "execution_count": 82,
   "id": "80fc6460",
   "metadata": {},
   "outputs": [
    {
     "name": "stdout",
     "output_type": "stream",
     "text": [
      "        seq          tag          time     x_pos     y_pos     z_pos activity\n",
      "155968  E05  ankle_right  11:45:47:743  1.003982  1.238588  0.007457  walking\n",
      "155971  E05  ankle_right  11:45:47:850  1.006784  1.191324  0.097368  walking\n",
      "155975  E05  ankle_right  11:45:47:957  1.034610  1.315100  0.041976  walking\n",
      "155978  E05  ankle_right  11:45:48:067  0.944546  1.408342 -0.039354  walking\n",
      "155982  E05  ankle_right  11:45:48:173  0.960925  1.448810  0.042909  walking\n",
      "...     ...          ...           ...       ...       ...       ...      ...\n",
      "164845  E05  ankle_right  11:50:41:630  2.751055  1.888315 -0.078437  walking\n",
      "164849  E05  ankle_right  11:50:41:740  2.795578  1.919775 -0.055569  walking\n",
      "164852  E05  ankle_right  11:50:41:847  3.061706  2.148095  0.047512  walking\n",
      "164855  E05  ankle_right  11:50:41:957  3.209474  2.044571  0.062902  walking\n",
      "164858  E05  ankle_right  11:50:42:063  3.150169  1.931164  0.055037  walking\n",
      "\n",
      "[2526 rows x 7 columns]\n",
      "sequences array access\n",
      "0 to 4 = A0\n",
      "5 to 9 = B1\n",
      "10 to 14 = C2\n",
      "15 to 19 = D3\n",
      "20 to 24 = E4\n"
     ]
    }
   ],
   "source": [
    "def helper():\n",
    "    print('sequences array access')\n",
    "    print('0 to 4 = A0')\n",
    "    print('5 to 9 = B1')\n",
    "    print('10 to 14 = C2')\n",
    "    print('15 to 19 = D3')\n",
    "    print('20 to 24 = E4')\n",
    "\n",
    "print(sequences[24].loc[df['tag'] == 'ankle_right'])\n",
    "\n",
    "helper()\n"
   ]
  },
  {
   "cell_type": "code",
   "execution_count": null,
   "id": "b0a5ebb0",
   "metadata": {},
   "outputs": [],
   "source": []
  }
 ],
 "metadata": {
  "kernelspec": {
   "display_name": "Python 3 (ipykernel)",
   "language": "python",
   "name": "python3"
  },
  "language_info": {
   "codemirror_mode": {
    "name": "ipython",
    "version": 3
   },
   "file_extension": ".py",
   "mimetype": "text/x-python",
   "name": "python",
   "nbconvert_exporter": "python",
   "pygments_lexer": "ipython3",
   "version": "3.11.0"
  }
 },
 "nbformat": 4,
 "nbformat_minor": 5
}
